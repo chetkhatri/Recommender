{
 "cells": [
  {
   "cell_type": "code",
   "execution_count": 99,
   "metadata": {
    "collapsed": true
   },
   "outputs": [],
   "source": [
    "import pandas as pd\n",
    "import numpy as np\n",
    "import datetime"
   ]
  },
  {
   "cell_type": "code",
   "execution_count": 97,
   "metadata": {
    "collapsed": true
   },
   "outputs": [],
   "source": [
    "df = pd.read_csv(\"current_db.csv\", header = 0)"
   ]
  },
  {
   "cell_type": "code",
   "execution_count": 98,
   "metadata": {
    "collapsed": false
   },
   "outputs": [],
   "source": [
    "candidate_df = df[(df['firstname'].str.strip() == 'Chetan') & (df['middlename'].str.strip() == 'Jyestaram') & (df['lastname'].str.strip() == 'Soneji')]"
   ]
  },
  {
   "cell_type": "code",
   "execution_count": 111,
   "metadata": {
    "collapsed": true
   },
   "outputs": [],
   "source": [
    "def bmi(row):\n",
    "    if row['weight'] == 0 or row['height_feet'] == 0:\n",
    "        return 0\n",
    "    else:\n",
    "        bmi = row['weight'] / (((row['height_feet'] * 12) + row['height_inch']) * 0.0254)\n",
    "    return bmi"
   ]
  },
  {
   "cell_type": "code",
   "execution_count": 112,
   "metadata": {
    "collapsed": false
   },
   "outputs": [],
   "source": [
    "df['bmi'] = df.apply(bmi, axis = 1)"
   ]
  },
  {
   "cell_type": "code",
   "execution_count": 128,
   "metadata": {
    "collapsed": true
   },
   "outputs": [],
   "source": [
    "# can be improved performance using apply method on DF\n",
    "def update_age(df):\n",
    "    df['new_age'] = pd.Series(np.random.randn(len(df['age'])), index=df.index)\n",
    "    for i in range(len(df)):\n",
    "        if df['dob'][i] == \"0000-00-00\":\n",
    "            df['dob'][i] = datetime.datetime.now()\n",
    "        age_difference = np.datetime64(datetime.datetime.now()) - np.datetime64(df['dob'][i]) \n",
    "        x = np.timedelta64(age_difference,'ns')\n",
    "        years = x.astype('timedelta64[Y]')\n",
    "        df['new_age'][i] = int(years / np.timedelta64(1,'Y'))"
   ]
  },
  {
   "cell_type": "code",
   "execution_count": 129,
   "metadata": {
    "collapsed": false
   },
   "outputs": [
    {
     "name": "stderr",
     "output_type": "stream",
     "text": [
      "/home/chetan306/anaconda2/lib/python2.7/site-packages/ipykernel/__main__.py:10: SettingWithCopyWarning: \n",
      "A value is trying to be set on a copy of a slice from a DataFrame\n",
      "\n",
      "See the caveats in the documentation: http://pandas.pydata.org/pandas-docs/stable/indexing.html#indexing-view-versus-copy\n",
      "/home/chetan306/anaconda2/lib/python2.7/site-packages/ipykernel/__main__.py:6: SettingWithCopyWarning: \n",
      "A value is trying to be set on a copy of a slice from a DataFrame\n",
      "\n",
      "See the caveats in the documentation: http://pandas.pydata.org/pandas-docs/stable/indexing.html#indexing-view-versus-copy\n"
     ]
    }
   ],
   "source": [
    "update_age(df)"
   ]
  },
  {
   "cell_type": "code",
   "execution_count": 142,
   "metadata": {
    "collapsed": false
   },
   "outputs": [
    {
     "data": {
      "text/plain": [
       "68.0"
      ]
     },
     "execution_count": 142,
     "metadata": {},
     "output_type": "execute_result"
    }
   ],
   "source": [
    "df['new_age'][0]"
   ]
  },
  {
   "cell_type": "code",
   "execution_count": 171,
   "metadata": {
    "collapsed": false
   },
   "outputs": [],
   "source": [
    "def get_recommendations(firstname, middlename , lastname, df):\n",
    " \n",
    "    candidate_df = df[(df['firstname'].str.strip() == firstname) & \\\n",
    "                      (df['middlename'].str.strip() == middlename) & \\\n",
    "                      (df['lastname'].str.strip() == lastname) & (df['maritalStatus'] == 'Unmarried')]\n",
    "    \n",
    "    if (candidate_df['gender'].values[0] == 'Male'):\n",
    "        df = df[(df['gender'] == 'Female') & \\\n",
    "                (df['age'] <= candidate_df.age.values[0].astype('int')) & \\\n",
    "                (df['lastname'] != candidate_df['lastname'].values[0]) & \\\n",
    "                (df.age >= candidate_df.age.values[0].astype('int') - 5 ) & \\\n",
    "                (df.maritalStatus == 'Unmarried') & (df['bmi'] <= candidate_df['bmi'].values[0]) & \\\n",
    "                (candidate_df['new_age'].values[0] >= 21)] \n",
    "                \n",
    "    elif (candidate_df['gender'].values[0] == 'Female'):\n",
    "        df = df[(df['gender'] == 'Male') & \\\n",
    "                (df['age'] >= candidate_df.age.values[0].astype('int')) & \\\n",
    "                (df['lastname'] != candidate_df['lastname'].values[0]) & \\\n",
    "                (df.age <= candidate_df.age.values[0].astype('int') + 5 ) \\\n",
    "                & (df.maritalStatus == 'Unmarried') & (df['bmi'] >= candidate_df['bmi'].values[0]) &\\\n",
    "                (candidate_df['new_age'].values[0] >= 18 )] \n",
    "        \n",
    "    output = df[['firstname','middlename','lastname','maritalStatus','mobile','dob','new_age','birthtime','education'\\\n",
    "              ,'profession','email','bmi']]\n",
    "    print output[:10]\n",
    "    "
   ]
  },
  {
   "cell_type": "code",
   "execution_count": 172,
   "metadata": {
    "collapsed": false
   },
   "outputs": [
    {
     "name": "stdout",
     "output_type": "stream",
     "text": [
      "      firstname middlename   lastname maritalStatus      mobile         dob  \\\n",
      "73        Nisha     Mahesh  Rajawadha     Unmarried  9833824725  1988-10-16   \n",
      "118      Varsha     Ramesh   Chhatbar     Unmarried  9702077038  1991-10-26   \n",
      "151       Jigna  Shantilal       Liya     Unmarried  9558666036  1990-11-21   \n",
      "215       Suman     Pankaj      Dubal     Unmarried  9773674312  1992-08-14   \n",
      "222     Namrata  Kirtibhai    Mamtora     Unmarried         NaN  1989-11-02   \n",
      "270    Khushali      Dilip      Ghela     Unmarried  9833790111  1992-11-02   \n",
      "360     Ruchika    Hiralal    Dhandha     Unmarried  9664170891  1992-02-23   \n",
      "363       Priya     Premji    Vinchhi     Unmarried  9821598347  1991-05-23   \n",
      "372  Dr. Shipra   Kantilal      Dubal     Unmarried  9879055830  1988-11-17   \n",
      "373       Deepa  Kantilal;      Dubal     Unmarried  9879055830  1991-08-02   \n",
      "\n",
      "     new_age birthtime                     education            profession  \\\n",
      "73      27.0     07:34                         M.Com         Self Employed   \n",
      "118     24.0     HH:MM                           HSC               Service   \n",
      "151     25.0     HH:MM                          C.A.              Studying   \n",
      "215     23.0     HH:MM  BCom (Banking And Insurance)               Service   \n",
      "222     26.0     12:00                         M.Com              Studying   \n",
      "270     23.0     07:55                    T.Y.B Com.              Studying   \n",
      "360     24.0     09:50                        B.Com.              Studying   \n",
      "363     25.0     HH:MM                          C.A.                    na   \n",
      "372     27.0     HH:MM                          Ph.d  Radio-T.V. Announcer   \n",
      "373     25.0     HH:MM                           MBA              Lecturer   \n",
      "\n",
      "                             email  bmi  \n",
      "73      nisharajawadha88@gmail.com  0.0  \n",
      "118  varsha.chhatbar1991@gmail.com  0.0  \n",
      "151                            NaN  0.0  \n",
      "215                            NaN  0.0  \n",
      "222                            NaN  0.0  \n",
      "270      khushali.khatri@yahoo.com  0.0  \n",
      "360       khatri.ruchika@ymail.com  0.0  \n",
      "363          priyavichhi@gmail.com  0.0  \n",
      "372                            NaN  0.0  \n",
      "373                            NaN  0.0  \n"
     ]
    }
   ],
   "source": [
    "get_recommendations(\"Gaurav\",\"Amrutlal\", \"Nirmal\", df)"
   ]
  }
 ],
 "metadata": {
  "kernelspec": {
   "display_name": "Python [Root]",
   "language": "python",
   "name": "Python [Root]"
  },
  "language_info": {
   "codemirror_mode": {
    "name": "ipython",
    "version": 2
   },
   "file_extension": ".py",
   "mimetype": "text/x-python",
   "name": "python",
   "nbconvert_exporter": "python",
   "pygments_lexer": "ipython2",
   "version": "2.7.11"
  }
 },
 "nbformat": 4,
 "nbformat_minor": 0
}
